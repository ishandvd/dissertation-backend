{
 "cells": [
  {
   "cell_type": "code",
   "execution_count": 17,
   "metadata": {},
   "outputs": [],
   "source": [
    "import numpy as np\n",
    "from matplotlib import mlab\n",
    "import soundfile as sf\n",
    "import matplotlib.pyplot as plt\n",
    "import sys\n",
    "sys.path.append(\"C:\\Cambridge\\\\3rd Year\\dissertation\\pyNMF\\\\utils\")\n",
    "from xml_interface import *"
   ]
  },
  {
   "cell_type": "code",
   "execution_count": 5,
   "metadata": {},
   "outputs": [],
   "source": [
    "param = {\n",
    "    \"WD\": [], # Set to Default data from sample_wd initially\n",
    "    \"windowSize\": 2048,\n",
    "    \"hopSize\": 512,\n",
    "    \"lambda\": [0.1200, 0.1200, 0.1200],\n",
    "    \"order\": [0.1000, 0.1000, 0.1000],\n",
    "    \"maxIter\": 20,\n",
    "    \"sparsity\": 0,\n",
    "    \"rhoThreshold\": 0.5000,\n",
    "    \"rh\": 50\n",
    "}"
   ]
  },
  {
   "cell_type": "code",
   "execution_count": 19,
   "metadata": {},
   "outputs": [],
   "source": [
    "audio_folder = \"C:\\Cambridge\\\\3rd Year\\dissertation\\IDMT-SMT-DRUMS-V2\\\\audio\"\n",
    "annotation_folder = r\"C:/Cambridge/3rd Year/dissertation/IDMT-SMT-DRUMS-V2/annotation_xml/\"\n",
    "\n",
    "file_1 = \"RealDrum01_01#MIX.wav\"\n",
    "annotation_1 = \"RealDrum01_01#MIX.xml\"\n",
    "\n",
    "x, fs = sf.read(audio_folder + \"\\\\\" + file_1)"
   ]
  },
  {
   "cell_type": "code",
   "execution_count": 20,
   "metadata": {},
   "outputs": [],
   "source": [
    "\n",
    "(hh_train, sd_train, kd_train, mix) = training_files_and_mix(annotation_folder + annotation_1)"
   ]
  },
  {
   "cell_type": "code",
   "execution_count": 11,
   "metadata": {},
   "outputs": [],
   "source": [
    "overlap = param[\"windowSize\"] - param[\"hopSize\"]\n",
    "window = np.hamming(param[\"windowSize\"])\n",
    "[X,f,t] = mlab.specgram(x, NFFT=param[\"windowSize\"], window=window, noverlap=overlap, mode=\"complex\")\n",
    "X = np.abs(X)"
   ]
  },
  {
   "cell_type": "code",
   "execution_count": 15,
   "metadata": {},
   "outputs": [
    {
     "data": {
      "text/plain": [
       "(1025, 1520)"
      ]
     },
     "execution_count": 15,
     "metadata": {},
     "output_type": "execute_result"
    }
   ],
   "source": [
    "np.shape(X)"
   ]
  },
  {
   "cell_type": "code",
   "execution_count": 21,
   "metadata": {},
   "outputs": [
    {
     "data": {
      "text/plain": [
       "'RealDrum01_01#HH#train.wav'"
      ]
     },
     "execution_count": 21,
     "metadata": {},
     "output_type": "execute_result"
    }
   ],
   "source": [
    "hh_train"
   ]
  },
  {
   "cell_type": "code",
   "execution_count": null,
   "metadata": {},
   "outputs": [],
   "source": []
  }
 ],
 "metadata": {
  "kernelspec": {
   "display_name": "Python 3",
   "language": "python",
   "name": "python3"
  },
  "language_info": {
   "codemirror_mode": {
    "name": "ipython",
    "version": 3
   },
   "file_extension": ".py",
   "mimetype": "text/x-python",
   "name": "python",
   "nbconvert_exporter": "python",
   "pygments_lexer": "ipython3",
   "version": "3.9.0"
  },
  "orig_nbformat": 4
 },
 "nbformat": 4,
 "nbformat_minor": 2
}
